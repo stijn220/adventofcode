{
 "cells": [
  {
   "cell_type": "code",
   "execution_count": 3,
   "metadata": {},
   "outputs": [],
   "source": [
    "file = open(\"data.txt\", 'r')\n",
    "data = file.read().splitlines()"
   ]
  },
  {
   "cell_type": "code",
   "execution_count": 4,
   "metadata": {},
   "outputs": [],
   "source": [
    "rows = len(data)\n",
    "cols = len(data[0])\n",
    "word = \"XMAS\"\n",
    "word_len = len(word)\n"
   ]
  },
  {
   "cell_type": "code",
   "execution_count": 5,
   "metadata": {},
   "outputs": [],
   "source": [
    "directions = [\n",
    "    (0, 1),   # right\n",
    "    (0, -1),  # left\n",
    "    (1, 0),   # down\n",
    "    (-1, 0),  # up\n",
    "    (1, 1),   # down-right\n",
    "    (1, -1),  # down-left\n",
    "    (-1, 1),  # up-right\n",
    "    (-1, -1), # up-left\n",
    "]"
   ]
  },
  {
   "cell_type": "code",
   "execution_count": 7,
   "metadata": {},
   "outputs": [],
   "source": [
    "def check_direction(row, column, delta_row, delta_column):\n",
    "    for i in range(word_len):\n",
    "        new_row, new_column = row + i * delta_row, column + i * delta_column\n",
    "        if new_row < 0 or new_row >= rows or new_column < 0 or new_column >= cols or data[new_row][new_column] != word[i]:\n",
    "            return False\n",
    "    return True\n",
    "            "
   ]
  },
  {
   "cell_type": "code",
   "execution_count": 9,
   "metadata": {},
   "outputs": [
    {
     "data": {
      "text/plain": [
       "2464"
      ]
     },
     "execution_count": 9,
     "metadata": {},
     "output_type": "execute_result"
    }
   ],
   "source": [
    "count = 0\n",
    "for row in range(rows):\n",
    "    for column in range(cols):\n",
    "        for delta_row, delta_column in directions:\n",
    "            if check_direction(row, column, delta_row, delta_column):\n",
    "                count += 1\n",
    "count"
   ]
  }
 ],
 "metadata": {
  "kernelspec": {
   "display_name": "Python 3",
   "language": "python",
   "name": "python3"
  },
  "language_info": {
   "codemirror_mode": {
    "name": "ipython",
    "version": 3
   },
   "file_extension": ".py",
   "mimetype": "text/x-python",
   "name": "python",
   "nbconvert_exporter": "python",
   "pygments_lexer": "ipython3",
   "version": "3.10.2"
  }
 },
 "nbformat": 4,
 "nbformat_minor": 2
}
