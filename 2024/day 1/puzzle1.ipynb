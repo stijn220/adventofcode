{
 "cells": [
  {
   "cell_type": "code",
   "execution_count": 1,
   "metadata": {},
   "outputs": [],
   "source": [
    "import pandas as pd"
   ]
  },
  {
   "cell_type": "code",
   "execution_count": 5,
   "metadata": {},
   "outputs": [],
   "source": [
    "df = pd.read_csv('data.csv', delimiter=\"\\t\", header=None)"
   ]
  },
  {
   "cell_type": "code",
   "execution_count": 6,
   "metadata": {},
   "outputs": [
    {
     "data": {
      "text/html": [
       "<div>\n",
       "<style scoped>\n",
       "    .dataframe tbody tr th:only-of-type {\n",
       "        vertical-align: middle;\n",
       "    }\n",
       "\n",
       "    .dataframe tbody tr th {\n",
       "        vertical-align: top;\n",
       "    }\n",
       "\n",
       "    .dataframe thead th {\n",
       "        text-align: right;\n",
       "    }\n",
       "</style>\n",
       "<table border=\"1\" class=\"dataframe\">\n",
       "  <thead>\n",
       "    <tr style=\"text-align: right;\">\n",
       "      <th></th>\n",
       "      <th>0</th>\n",
       "    </tr>\n",
       "  </thead>\n",
       "  <tbody>\n",
       "    <tr>\n",
       "      <th>0</th>\n",
       "      <td>31594   93577</td>\n",
       "    </tr>\n",
       "    <tr>\n",
       "      <th>1</th>\n",
       "      <td>46608   24099</td>\n",
       "    </tr>\n",
       "    <tr>\n",
       "      <th>2</th>\n",
       "      <td>78052   70524</td>\n",
       "    </tr>\n",
       "    <tr>\n",
       "      <th>3</th>\n",
       "      <td>52680   49933</td>\n",
       "    </tr>\n",
       "    <tr>\n",
       "      <th>4</th>\n",
       "      <td>92973   56887</td>\n",
       "    </tr>\n",
       "    <tr>\n",
       "      <th>...</th>\n",
       "      <td>...</td>\n",
       "    </tr>\n",
       "    <tr>\n",
       "      <th>995</th>\n",
       "      <td>72704   20997</td>\n",
       "    </tr>\n",
       "    <tr>\n",
       "      <th>996</th>\n",
       "      <td>78327   63698</td>\n",
       "    </tr>\n",
       "    <tr>\n",
       "      <th>997</th>\n",
       "      <td>62435   56887</td>\n",
       "    </tr>\n",
       "    <tr>\n",
       "      <th>998</th>\n",
       "      <td>84014   77208</td>\n",
       "    </tr>\n",
       "    <tr>\n",
       "      <th>999</th>\n",
       "      <td>51255   53718</td>\n",
       "    </tr>\n",
       "  </tbody>\n",
       "</table>\n",
       "<p>1000 rows × 1 columns</p>\n",
       "</div>"
      ],
      "text/plain": [
       "                 0\n",
       "0    31594   93577\n",
       "1    46608   24099\n",
       "2    78052   70524\n",
       "3    52680   49933\n",
       "4    92973   56887\n",
       "..             ...\n",
       "995  72704   20997\n",
       "996  78327   63698\n",
       "997  62435   56887\n",
       "998  84014   77208\n",
       "999  51255   53718\n",
       "\n",
       "[1000 rows x 1 columns]"
      ]
     },
     "execution_count": 6,
     "metadata": {},
     "output_type": "execute_result"
    }
   ],
   "source": [
    "df"
   ]
  },
  {
   "cell_type": "code",
   "execution_count": 110,
   "metadata": {},
   "outputs": [],
   "source": [
    "total_sum = 0\n",
    "for i, row in df.iterrows():\n",
    "    row1 = row[0][0:5]\n",
    "    row2 = row[0][8:13]\n",
    "    lrow1 = [n for n in row1]\n",
    "    lrow2 = [n for n in row2]\n",
    "\n",
    "    row_sum = 0\n",
    "    while len(lrow1) > 0:\n",
    "        distance = 0\n",
    "        nrow1 = int(min(lrow1))\n",
    "\n",
    "        lrow1.remove(str(nrow1))\n",
    "\n",
    "        nrow2 = int(min(lrow2))\n",
    "        lrow2.remove(str(nrow2))\n",
    "        distance = abs(nrow1 - nrow2)\n",
    "        row_sum += distance\n",
    "    total_sum += row_sum\n",
    "        "
   ]
  },
  {
   "cell_type": "code",
   "execution_count": 127,
   "metadata": {},
   "outputs": [
    {
     "data": {
      "text/plain": [
       "1320851"
      ]
     },
     "execution_count": 127,
     "metadata": {},
     "output_type": "execute_result"
    }
   ],
   "source": [
    "left = []\n",
    "right = []\n",
    "total_distance = 0\n",
    "for i, row in df.iterrows():\n",
    "    row_left = int(row[0][0:5])\n",
    "    row_right = int(row[0][8:13])\n",
    "    left.append(row_left)\n",
    "    right.append(row_right)\n",
    "\n",
    "while len(left) > 0:\n",
    "    nleft = min(left)\n",
    "    nright = min(right)\n",
    "    left.remove(nleft)\n",
    "    right.remove(nright)\n",
    "    distance = abs(nleft - nright)\n",
    "    total_distance += distance\n",
    "\n",
    "total_distance"
   ]
  }
 ],
 "metadata": {
  "kernelspec": {
   "display_name": "Python 3",
   "language": "python",
   "name": "python3"
  },
  "language_info": {
   "codemirror_mode": {
    "name": "ipython",
    "version": 3
   },
   "file_extension": ".py",
   "mimetype": "text/x-python",
   "name": "python",
   "nbconvert_exporter": "python",
   "pygments_lexer": "ipython3",
   "version": "3.10.2"
  }
 },
 "nbformat": 4,
 "nbformat_minor": 2
}
